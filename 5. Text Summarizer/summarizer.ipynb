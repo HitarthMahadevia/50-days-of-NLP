{
 "cells": [
  {
   "cell_type": "code",
   "execution_count": 5,
   "metadata": {},
   "outputs": [],
   "source": [
    "# Step 1: Data Collection (Example using newspaper3k)\n",
    "from newspaper import Article\n",
    "\n",
    "# Example article URL\n",
    "article_url = 'https://timesofindia.indiatimes.com/india/url-bangladesh-pm-in-india-pm-modi-receives-sheikh-hasina-at-rashtrapati-bhavan-to-hold-bilateral-meet-today/articleshow/111181506.cms'\n",
    "\n",
    "article = Article(article_url)\n",
    "article.download()\n",
    "article.parse()\n",
    "text = article.text"
   ]
  },
  {
   "cell_type": "code",
   "execution_count": 10,
   "metadata": {},
   "outputs": [
    {
     "name": "stdout",
     "output_type": "stream",
     "text": [
      "(With inputs from agencies)\n",
      "\n",
      "NEW DELHI: Prime Minister Narendra Modi received his Bangladeshi counterpart Sheikh Hasina with a ceremonial welcome at the Rashtrapati Bhavan forecourt upon her arrival in the capital, on Saturday.Following the ceremony, the two leaders met with ministers and delegates from their respective nations at the forecourt, engaging in cordial interactions and exchanges.PM Sheikh Hasina arrived in Delhi for a four-day state visit, during which she is expected to hold wide-ranging talks with PM Modi and give a new momentum to the bilateral ties .Apart from holding bilateral talks, PM Hasina is also scheduled to meet with President Droupadi Murmu and Vice President Jagdeep Dhankhar during her visit.Earlier on Friday, External Affairs Minister S Jaishankar held a meeting with the Bangladeshi leader to discuss a range of bilateral matters.\"Delighted to call on Prime Minister Sheikh Hasina of Bangladesh this evening. Her State visit to India underlines our close and abiding ties. Appreciate her guidance on the further development of our special partnership,\" he wrote in a post on X.As a key partner and trusted neighbor, Bangladesh's \"celebrated bilateral partnership\" with India is set to receive a boost through Prime Minister Hasina's visit, according to the spokesperson for the external affairs ministry, Randhir Jaiswal.Upon her arrival at the airport, Hasina was greeted by Kirti Vardhan Singh, Minister of State in the external affairs ministry.Prime Minister Hasina was among seven prominent leaders from India's neighborhood who attended the swearing-in ceremony of PM Modi and the Union council of ministers at the Rashtrapati Bhavan on June 9.\n"
     ]
    }
   ],
   "source": [
    "print(text)"
   ]
  },
  {
   "cell_type": "code",
   "execution_count": 6,
   "metadata": {},
   "outputs": [],
   "source": [
    "# Step 2: Preprocessing (Example)\n",
    "import re\n",
    "from nltk.tokenize import sent_tokenize\n",
    "from nltk.corpus import stopwords\n",
    "\n",
    "def preprocess_text(text):\n",
    "    # Remove HTML tags and non-alphanumeric characters\n",
    "    text = re.sub('<[^<]+?>', '', text)\n",
    "    text = re.sub(r'\\W+', ' ', text)\n",
    "    text = text.lower()\n",
    "    \n",
    "    # Tokenize into sentences\n",
    "    sentences = sent_tokenize(text)\n",
    "    \n",
    "    # Remove stopwords\n",
    "    stop_words = set(stopwords.words('english'))\n",
    "    cleaned_sentences = [sentence for sentence in sentences if sentence not in stop_words]\n",
    "    \n",
    "    return cleaned_sentences\n",
    "\n",
    "cleaned_sentences = preprocess_text(text)\n"
   ]
  },
  {
   "cell_type": "code",
   "execution_count": 7,
   "metadata": {},
   "outputs": [],
   "source": [
    "# Step 3: Feature Extraction (Example using TF-IDF)\n",
    "from sklearn.feature_extraction.text import TfidfVectorizer\n",
    "\n",
    "# Initialize TF-IDF Vectorizer\n",
    "tfidf_vectorizer = TfidfVectorizer()\n",
    "\n",
    "# Fit and transform the data\n",
    "tfidf_matrix = tfidf_vectorizer.fit_transform(cleaned_sentences)"
   ]
  },
  {
   "cell_type": "code",
   "execution_count": 8,
   "metadata": {},
   "outputs": [
    {
     "name": "stdout",
     "output_type": "stream",
     "text": [
      "Generated Summary:\n",
      " with inputs from agencies new delhi prime minister narendra modi received his bangladeshi counterpart sheikh hasina with a ceremonial welcome at the rashtrapati bhavan forecourt upon her arrival in the capital on saturday following the ceremony the two leaders met with ministers and delegates from their respective nations at the forecourt engaging in cordial interactions and exchanges pm sheikh hasina arrived in delhi for a four day state visit during which she is expected to hold wide ranging talks with pm modi and give a new momentum to the bilateral ties apart from holding bilateral talks pm hasina is also scheduled to meet with president droupadi murmu and vice president jagdeep dhankhar during her visit earlier on friday external affairs minister s jaishankar held a meeting with the bangladeshi leader to discuss a range of bilateral matters delighted to call on prime minister sheikh hasina of bangladesh this evening her state visit to india underlines our close and abiding ties appreciate her guidance on the further development of our special partnership he wrote in a post on x as a key partner and trusted neighbor bangladesh s celebrated bilateral partnership with india is set to receive a boost through prime minister hasina s visit according to the spokesperson for the external affairs ministry randhir jaiswal upon her arrival at the airport hasina was greeted by kirti vardhan singh minister of state in the external affairs ministry prime minister hasina was among seven prominent leaders from india s neighborhood who attended the swearing in ceremony of pm modi and the union council of ministers at the rashtrapati bhavan on june 9\n"
     ]
    }
   ],
   "source": [
    "# Step 4: Summarization Techniques (Example)\n",
    "# Calculate sentence scores based on TF-IDF scores\n",
    "sentence_scores = {}\n",
    "for i in range(len(cleaned_sentences)):\n",
    "    sentence_scores[i] = tfidf_matrix[i].sum()\n",
    "\n",
    "# Rank sentences by scores and select top sentences for summary\n",
    "import heapq\n",
    "\n",
    "summary_sentences = heapq.nlargest(5, sentence_scores, key=sentence_scores.get)\n",
    "summary = ' '.join([cleaned_sentences[i] for i in summary_sentences])\n",
    "\n",
    "print(\"Generated Summary:\")\n",
    "print(summary)"
   ]
  },
  {
   "cell_type": "code",
   "execution_count": 13,
   "metadata": {},
   "outputs": [
    {
     "name": "stdout",
     "output_type": "stream",
     "text": [
      "ROUGE-1: Score(precision=0.3074074074074074, recall=0.9325842696629213, fmeasure=0.4623955431754875)\n",
      "ROUGE-2: Score(precision=0.21189591078066913, recall=0.6477272727272727, fmeasure=0.31932773109243695)\n",
      "ROUGE-L: Score(precision=0.26296296296296295, recall=0.797752808988764, fmeasure=0.39554317548746515)\n"
     ]
    }
   ],
   "source": [
    "from rouge_score import rouge_scorer\n",
    "\n",
    "# Assuming `reference_summary` is the human-written summary and `generated_summary` is the model's summary.\n",
    "reference_summary = \"Prime Minister Narendra Modi and Bangladeshi Prime Minister Sheikh Hasina met at Rashtrapati Bhavan forecourt after a ceremonial welcome. Hasina is expected to hold talks with Modi and discuss bilateral ties. She will also meet with President Droupadi Murmu and Vice President Jagdeep Dhankhar. External Affairs Minister S Jaishankar held a meeting with Hasina to discuss bilateral matters. Hasina's visit is expected to boost Bangladesh's 'celebrated bilateral partnership' with India. She was among seven prominent leaders from India's neighborhood who attended Modi's swearing-in ceremony.\"\n",
    "generated_summary = summary  # The summary generated by your model\n",
    "\n",
    "# Initialize the ROUGE scorer\n",
    "scorer = rouge_scorer.RougeScorer(['rouge1', 'rouge2', 'rougeL'], use_stemmer=True)\n",
    "\n",
    "# Compute ROUGE scores\n",
    "scores = scorer.score(reference_summary, generated_summary)\n",
    "\n",
    "# Print the scores\n",
    "print(\"ROUGE-1:\", scores['rouge1'])\n",
    "print(\"ROUGE-2:\", scores['rouge2'])\n",
    "print(\"ROUGE-L:\", scores['rougeL'])\n"
   ]
  },
  {
   "cell_type": "code",
   "execution_count": 18,
   "metadata": {},
   "outputs": [
    {
     "name": "stdout",
     "output_type": "stream",
     "text": [
      "Original Text:\n",
      " (With inputs from agencies)\n",
      "\n",
      "NEW DELHI: Prime Minister Narendra Modi received his Bangladeshi counterpart Sheikh Hasina with a ceremonial welcome at the Rashtrapati Bhavan forecourt upon her arrival in the capital, on Saturday.Following the ceremony, the two leaders met with ministers and delegates from their respective nations at the forecourt, engaging in cordial interactions and exchanges. She also honored Mahatma Gandhi by visiting Raj Ghat memorial in Delhi, and laid a wreath to pay her respects to the leader.PM Sheikh Hasina arrived in Delhi for a four-day state visit, during which she is expected to hold wide-ranging talks with PM Modi and give a new momentum to the bilateral ties .Apart from holding bilateral talks, PM Hasina is also scheduled to meet with President Droupadi Murmu and Vice President Jagdeep Dhankhar during her visit.Earlier on Friday, External Affairs Minister S Jaishankar held a meeting with the Bangladeshi leader to discuss a range of bilateral matters.\"Delighted to call on Prime Minister Sheikh Hasina of Bangladesh this evening. Her State visit to India underlines our close and abiding ties. Appreciate her guidance on the further development of our special partnership,\" he wrote in a post on X.As a key partner and trusted neighbor, Bangladesh's \"celebrated bilateral partnership\" with India is set to receive a boost through Prime Minister Hasina's visit, according to the spokesperson for the external affairs ministry, Randhir Jaiswal.Upon her arrival at the airport, Hasina was greeted by Kirti Vardhan Singh, Minister of State in the external affairs ministry.Prime Minister Hasina was among seven prominent leaders from India's neighborhood who attended the swearing-in ceremony of PM Modi and the Union council of ministers at the Rashtrapati Bhavan on June 9.\n",
      "\n",
      "Summarized Text:\n",
      " PM Sheikh Hasina arrived in Delhi for a four-day state visit. She is expected to hold wide-ranging talks with PM Modi. She also honored Mahatma Gandhi by visiting Raj Ghat memorial in Delhi.\n"
     ]
    }
   ],
   "source": [
    "import torch\n",
    "from transformers import BartTokenizer, BartForConditionalGeneration\n",
    "from newspaper import Article\n",
    "import nltk\n",
    "\n",
    "\n",
    "# Function to get the text from a news article\n",
    "def get_article_text(url):\n",
    "    article = Article(url)\n",
    "    article.download()\n",
    "    article.parse()\n",
    "    return article.text\n",
    "\n",
    "# Function to summarize text using BART\n",
    "def summarize_text(text, max_length=500, min_length=30, num_beams=4):\n",
    "    tokenizer = BartTokenizer.from_pretrained('facebook/bart-large-cnn')\n",
    "    model = BartForConditionalGeneration.from_pretrained('facebook/bart-large-cnn')\n",
    "\n",
    "    inputs = tokenizer.encode(\"summarize: \" + text, return_tensors=\"pt\", max_length=1024, truncation=True)\n",
    "    summary_ids = model.generate(inputs, max_length=max_length, min_length=min_length, num_beams=num_beams, length_penalty=2.0, early_stopping=True)\n",
    "    summary = tokenizer.decode(summary_ids[0], skip_special_tokens=True)\n",
    "    return summary\n",
    "\n",
    "# Example usage\n",
    "url = 'https://timesofindia.indiatimes.com/india/url-bangladesh-pm-in-india-pm-modi-receives-sheikh-hasina-at-rashtrapati-bhavan-to-hold-bilateral-meet-today/articleshow/111181506.cms'\n",
    "text = get_article_text(url)\n",
    "print(\"Original Text:\\n\", text)\n",
    "\n",
    "summary = summarize_text(text)\n",
    "print(\"\\nSummarized Text:\\n\", summary)\n"
   ]
  },
  {
   "cell_type": "code",
   "execution_count": 16,
   "metadata": {},
   "outputs": [
    {
     "name": "stdout",
     "output_type": "stream",
     "text": [
      "Collecting rouge\n",
      "  Downloading rouge-1.0.1-py3-none-any.whl.metadata (4.1 kB)\n",
      "Requirement already satisfied: six in c:\\users\\hitar\\anaconda3\\lib\\site-packages (from rouge) (1.16.0)\n",
      "Downloading rouge-1.0.1-py3-none-any.whl (13 kB)\n",
      "Installing collected packages: rouge\n",
      "Successfully installed rouge-1.0.1\n"
     ]
    }
   ],
   "source": [
    "!pip install rouge"
   ]
  },
  {
   "cell_type": "code",
   "execution_count": 19,
   "metadata": {},
   "outputs": [
    {
     "name": "stdout",
     "output_type": "stream",
     "text": [
      "\n",
      "ROUGE Scores:\n",
      " [{'rouge-1': {'r': 0.1686046511627907, 'p': 1.0, 'f': 0.28855721146110247}, 'rouge-2': {'r': 0.10112359550561797, 'p': 0.8709677419354839, 'f': 0.18120805182716995}, 'rouge-l': {'r': 0.1686046511627907, 'p': 1.0, 'f': 0.28855721146110247}}]\n"
     ]
    }
   ],
   "source": [
    "from rouge import Rouge\n",
    "\n",
    "# Evaluate the summary\n",
    "def evaluate_summary(original_text, summarized_text):\n",
    "    rouge = Rouge()\n",
    "    scores = rouge.get_scores(summarized_text, original_text)\n",
    "    return scores\n",
    "\n",
    "# Example usage for evaluation\n",
    "scores = evaluate_summary(text, summary)\n",
    "print(\"\\nROUGE Scores:\\n\", scores)"
   ]
  },
  {
   "cell_type": "markdown",
   "metadata": {},
   "source": [
    "### Conclusion\n",
    "\n",
    "In this project, I explored two text summarization approaches and evaluated their performance using ROUGE metrics.\n",
    "\n",
    "#### Key Findings:\n",
    "\n",
    "1. **Extractive Summarization:**\n",
    "   - **ROUGE-1**: Precision: 0.3074, Recall: 0.9326, F-measure: 0.4624\n",
    "   - **ROUGE-2**: Precision: 0.2119, Recall: 0.6477, F-measure: 0.3193\n",
    "   - **ROUGE-L**: Precision: 0.2630, Recall: 0.7978, F-measure: 0.3955\n",
    "\n",
    "2. **Abstractive Summarization using BART:**\n",
    "   - **ROUGE-1**: Precision: 1.0, Recall: 0.1686, F-measure: 0.2886\n",
    "   - **ROUGE-2**: Precision: 0.8710, Recall: 0.1011, F-measure: 0.1812\n",
    "   - **ROUGE-L**: Precision: 1.0, Recall: 0.1686, F-measure: 0.2886\n",
    "\n",
    "#### Analysis:\n",
    "\n",
    "- **Extractive Summarization** achieves high recall, capturing most key information but includes some irrelevant details.\n",
    "- **Abstractive Summarization** with BART shows high precision and generates concise summaries but may miss some key information.\n",
    "\n",
    "#### Future Work:\n",
    "\n",
    "1. **Combining Approaches**: Integrate extractive and abstractive techniques.\n",
    "2. **Parameter Tuning**: Experiment with BART model parameters.\n",
    "3. **Exploring Other Models**: Use advanced models like T5 or PEGASUS.\n",
    "4. **Diverse Datasets**: Test on a variety of articles for robustness.\n",
    "\n",
    "#### Practical Implications:\n",
    "\n",
    "Effective text summarization aids in quickly grasping lengthy documents, crucial for news aggregation, research, and content curation. Continuous refinement can lead to more accurate and reliable summaries, enhancing automated summarization systems.\n"
   ]
  }
 ],
 "metadata": {
  "kernelspec": {
   "display_name": "base",
   "language": "python",
   "name": "python3"
  },
  "language_info": {
   "codemirror_mode": {
    "name": "ipython",
    "version": 3
   },
   "file_extension": ".py",
   "mimetype": "text/x-python",
   "name": "python",
   "nbconvert_exporter": "python",
   "pygments_lexer": "ipython3",
   "version": "3.11.5"
  }
 },
 "nbformat": 4,
 "nbformat_minor": 2
}
